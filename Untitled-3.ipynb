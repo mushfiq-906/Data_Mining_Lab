{
 "cells": [
  {
   "cell_type": "code",
   "execution_count": 1,
   "metadata": {},
   "outputs": [
    {
     "ename": "MemoryError",
     "evalue": "",
     "output_type": "error",
     "traceback": [
      "\u001b[1;31m---------------------------------------------------------------------------\u001b[0m",
      "\u001b[1;31mMemoryError\u001b[0m                               Traceback (most recent call last)",
      "Cell \u001b[1;32mIn[1], line 31\u001b[0m\n\u001b[0;32m     28\u001b[0m     \u001b[39mreturn\u001b[39;00m suggestions\n\u001b[0;32m     30\u001b[0m \u001b[39m# Generate suggestions\u001b[39;00m\n\u001b[1;32m---> 31\u001b[0m suggestions \u001b[39m=\u001b[39m generate_suggestions(words1, words2)\n\u001b[0;32m     33\u001b[0m \u001b[39m# Path to the output text file\u001b[39;00m\n\u001b[0;32m     34\u001b[0m output_file_path \u001b[39m=\u001b[39m \u001b[39m'\u001b[39m\u001b[39msuggestions_list.txt\u001b[39m\u001b[39m'\u001b[39m\n",
      "Cell \u001b[1;32mIn[1], line 27\u001b[0m, in \u001b[0;36mgenerate_suggestions\u001b[1;34m(words1, words2)\u001b[0m\n\u001b[0;32m     25\u001b[0m     \u001b[39mfor\u001b[39;00m word2 \u001b[39min\u001b[39;00m words2:\n\u001b[0;32m     26\u001b[0m         suggestion \u001b[39m=\u001b[39m word1 \u001b[39m+\u001b[39m word2\n\u001b[1;32m---> 27\u001b[0m         suggestions\u001b[39m.\u001b[39mappend(suggestion)\n\u001b[0;32m     28\u001b[0m \u001b[39mreturn\u001b[39;00m suggestions\n",
      "\u001b[1;31mMemoryError\u001b[0m: "
     ]
    }
   ],
   "source": [
    "import csv\n",
    "\n",
    "# Function to read words from a CSV file and return a list\n",
    "def read_words_from_csv(file_path, column_name):\n",
    "    words = []\n",
    "    with open(file_path, newline='', encoding='utf-8') as csvfile:\n",
    "        reader = csv.DictReader(csvfile)\n",
    "        for row in reader:\n",
    "            words.append(row[column_name])\n",
    "    return words\n",
    "\n",
    "# Paths to your CSV files and common column name\n",
    "file1_path = 'filtered_hapax.csv'\n",
    "file2_path = 'filtered_unigram.csv'\n",
    "common_column_name = 'processed_text'  # Change to the actual column name\n",
    "\n",
    "# Read words from both CSV files\n",
    "words1 = read_words_from_csv(file1_path, common_column_name)\n",
    "words2 = read_words_from_csv(file2_path, common_column_name)\n",
    "\n",
    "# Function to generate suggestions by combining words from both lists\n",
    "def generate_suggestions(words1, words2):\n",
    "    suggestions = []\n",
    "    for word1 in words1:\n",
    "        for word2 in words2:\n",
    "            suggestion = word1 + word2\n",
    "            suggestions.append(suggestion)\n",
    "    return suggestions\n",
    "\n",
    "# Generate suggestions\n",
    "suggestions = generate_suggestions(words1, words2)\n",
    "\n",
    "# Path to the output text file\n",
    "output_file_path = 'suggestions_list.txt'\n",
    "\n",
    "# Save the suggestions to the text file\n",
    "with open(output_file_path, 'w', encoding='utf-8') as output_file:\n",
    "    for suggestion in suggestions:\n",
    "        output_file.write(suggestion + '\\n')\n",
    "\n",
    "print(f'Suggestions saved to {output_file_path}')\n"
   ]
  }
 ],
 "metadata": {
  "kernelspec": {
   "display_name": "base",
   "language": "python",
   "name": "python3"
  },
  "language_info": {
   "codemirror_mode": {
    "name": "ipython",
    "version": 3
   },
   "file_extension": ".py",
   "mimetype": "text/x-python",
   "name": "python",
   "nbconvert_exporter": "python",
   "pygments_lexer": "ipython3",
   "version": "3.11.4"
  },
  "orig_nbformat": 4
 },
 "nbformat": 4,
 "nbformat_minor": 2
}
