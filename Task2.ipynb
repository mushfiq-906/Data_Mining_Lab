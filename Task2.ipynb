{
 "cells": [
  {
   "cell_type": "code",
   "execution_count": 1,
   "metadata": {},
   "outputs": [
    {
     "ename": "",
     "evalue": "",
     "output_type": "error",
     "traceback": [
      "\u001b[1;31mThe Kernel crashed while executing code in the the current cell or a previous cell. Please review the code in the cell(s) to identify a possible cause of the failure. Click <a href='https://aka.ms/vscodeJupyterKernelCrash'>here</a> for more info. View Jupyter <a href='command:jupyter.viewOutput'>log</a> for further details."
     ]
    }
   ],
   "source": [
    "import csv\n",
    "import pandas as pd\n",
    "import os\n",
    "import nltk\n",
    "from nltk.corpus import stopwords\n",
    "from nltk.tokenize import word_tokenize"
   ]
  },
  {
   "cell_type": "code",
   "execution_count": null,
   "metadata": {},
   "outputs": [],
   "source": [
    "unigram_path = 'Unigram_sort_by_frequency_1686270.txt'\n",
    "hapax_path = pd.read_csv(\"hapax_legomena.csv\")\n",
    "\n",
    "def read_unigram(file_path):\n",
    "    unigram_list = set()\n",
    "    with open(file_path, 'r', encoding='utf-8') as file:\n",
    "        for line in file:\n",
    "            word = line.strip().split(' ---> ')[0]\n",
    "            unigram_list.add(word)\n",
    "    return unigram_list\n",
    "\n",
    "# Function to split the word into different combinations\n",
    "def split_word(word):\n",
    "    splits = []\n",
    "    for i in range(1, len(word)):\n",
    "        left= word[:i]\n",
    "        right = word[i:]\n",
    "        splits.append(left, right)\n",
    "    return splits\n",
    "\n",
    "def replace_matching_portions(word, unigram_list):\n",
    "    splits = split_word(word)\n",
    "    matching_portion = None  # Initialize matching_portion\n",
    "    for i, split in enumerate(splits):\n",
    "        if split[0] in unigram_list and split[1] in unigram_list:\n",
    "            word = word.replace(split[0], f'{split[0]}-', 1)\n",
    "            word = word.replace(split[1], f'-{split[1]}', 1)\n",
    "            matching_portion = split[0] + split[1]\n",
    "        elif split[0] in unigram_list:\n",
    "            word = word.replace(split[0], f'{split[0]}-', 1)\n",
    "            matching_portion = split[0]\n",
    "        elif split[1] in unigram_list:\n",
    "            word = word.replace(split[1], f'-{split[1]}', 1)\n",
    "            matching_portion = split[1]\n",
    "    return word, matching_portion\n"
   ]
  },
  {
   "cell_type": "markdown",
   "metadata": {},
   "source": []
  }
 ],
 "metadata": {
  "kernelspec": {
   "display_name": "base",
   "language": "python",
   "name": "python3"
  },
  "language_info": {
   "codemirror_mode": {
    "name": "ipython",
    "version": 3
   },
   "file_extension": ".py",
   "mimetype": "text/x-python",
   "name": "python",
   "nbconvert_exporter": "python",
   "pygments_lexer": "ipython3",
   "version": "3.11.4"
  }
 },
 "nbformat": 4,
 "nbformat_minor": 2
}
