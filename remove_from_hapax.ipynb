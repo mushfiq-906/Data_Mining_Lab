{
 "cells": [
  {
   "cell_type": "code",
   "execution_count": 3,
   "metadata": {},
   "outputs": [],
   "source": [
    "import csv\n",
    "import re\n",
    "\n",
    "# Function to split text into words considering Bengali punctuation\n",
    "def split_text_bengali(text):\n",
    "    # Define a regular expression pattern to split on Bengali punctuation\n",
    "    pattern = r'[৷,;\\'\"?!-()\\[\\]{}।\\n\\s]+'\n",
    "    return re.split(pattern, text)\n",
    "\n",
    "# Specify the input and output file paths\n",
    "input_file = 'all_words.csv'\n",
    "output_file = 'filtered_unigram.csv'\n",
    "\n",
    "# Specify the name of the column to process\n",
    "column_name = 'Word'\n",
    "\n",
    "# Read the CSV file and write the processed data to a new file\n",
    "with open(input_file, 'r', encoding='utf-8') as csv_input, open(output_file, 'w', newline='', encoding='utf-8') as csv_output:\n",
    "    reader = csv.DictReader(csv_input)\n",
    "    writer = csv.writer(csv_output, delimiter=',', quoting=csv.QUOTE_MINIMAL)\n",
    "    \n",
    "    # Write a header row\n",
    "    writer.writerow(['processed_text'])\n",
    "\n",
    "    for row in reader:\n",
    "        original_text = row[column_name]\n",
    "        words = split_text_bengali(original_text)\n",
    "        for word in words:\n",
    "            if word.strip():\n",
    "                writer.writerow([word.strip()])\n"
   ]
  }
 ],
 "metadata": {
  "kernelspec": {
   "display_name": "base",
   "language": "python",
   "name": "python3"
  },
  "language_info": {
   "codemirror_mode": {
    "name": "ipython",
    "version": 3
   },
   "file_extension": ".py",
   "mimetype": "text/x-python",
   "name": "python",
   "nbconvert_exporter": "python",
   "pygments_lexer": "ipython3",
   "version": "3.10.12"
  },
  "orig_nbformat": 4
 },
 "nbformat": 4,
 "nbformat_minor": 2
}
