{
 "cells": [
  {
   "cell_type": "code",
   "execution_count": 4,
   "metadata": {},
   "outputs": [
    {
     "name": "stdout",
     "output_type": "stream",
     "text": [
      "Duplicate and unwanted words removed. Processed data saved to \"unigram_file.csv\".\n"
     ]
    }
   ],
   "source": [
    "import csv\n",
    "import re\n",
    "\n",
    "# Function to split text into words considering Bengali punctuation\n",
    "def split_text_bengali(text):\n",
    "    # Define a regular expression pattern to split on Bengali punctuation\n",
    "    pattern = r'[৷,;\\'\"?!-()\\[\\]{}।\\n\\s]+'\n",
    "    return re.split(pattern, text)\n",
    "\n",
    "# Specify the input and output file paths\n",
    "input_file = 'filtered_unigram.csv'\n",
    "output_file = 'unigram_file.csv'\n",
    "\n",
    "# Specify the name of the column to process\n",
    "column_name = 'processed_text'\n",
    "\n",
    "# Specify unwanted words to remove\n",
    "unwanted_words = {'nan', 'all_country'}\n",
    "\n",
    "# Create a set to store unique words\n",
    "unique_words = set()\n",
    "\n",
    "# Read the CSV file and write the processed data to a new file while removing duplicates and unwanted words\n",
    "with open(input_file, 'r', encoding='utf-8') as csv_input, open(output_file, 'w', newline='', encoding='utf-8') as csv_output:\n",
    "    reader = csv.DictReader(csv_input)\n",
    "    writer = csv.writer(csv_output, delimiter=',', quoting=csv.QUOTE_MINIMAL)\n",
    "    \n",
    "    # Write a header row\n",
    "    writer.writerow(['processed_text'])\n",
    "\n",
    "    for row in reader:\n",
    "        original_text = row[column_name]\n",
    "        words = split_text_bengali(original_text)\n",
    "        for word in words:\n",
    "            stripped_word = word.strip()\n",
    "            if stripped_word and stripped_word not in unique_words and stripped_word not in unwanted_words:\n",
    "                writer.writerow([stripped_word])\n",
    "                unique_words.add(stripped_word)\n",
    "\n",
    "print(f'Duplicate and unwanted words removed. Processed data saved to \"{output_file}\".')\n"
   ]
  }
 ],
 "metadata": {
  "kernelspec": {
   "display_name": "Python 3",
   "language": "python",
   "name": "python3"
  },
  "language_info": {
   "codemirror_mode": {
    "name": "ipython",
    "version": 3
   },
   "file_extension": ".py",
   "mimetype": "text/x-python",
   "name": "python",
   "nbconvert_exporter": "python",
   "pygments_lexer": "ipython3",
   "version": "3.10.12"
  },
  "orig_nbformat": 4
 },
 "nbformat": 4,
 "nbformat_minor": 2
}
