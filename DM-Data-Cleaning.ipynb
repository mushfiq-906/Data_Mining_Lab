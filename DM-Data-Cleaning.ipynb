{
 "cells": [
  {
   "cell_type": "code",
   "execution_count": 10,
   "id": "80b1f280",
   "metadata": {},
   "outputs": [],
   "source": [
    "import pandas as pd\n",
    "import re"
   ]
  },
  {
   "cell_type": "code",
   "execution_count": 2,
   "id": "18619d6a",
   "metadata": {},
   "outputs": [
    {
     "data": {
      "text/plain": [
       "(74234, 4)"
      ]
     },
     "execution_count": 2,
     "metadata": {},
     "output_type": "execute_result"
    }
   ],
   "source": [
    "dataset = pd.read_csv(\"D:\\\\Project\\\\Data Mining Lab\\\\merged1.csv\", encoding=\"utf-8\")\n",
    "dataset = dataset.dropna()\n",
    "dataset.shape"
   ]
  },
  {
   "cell_type": "code",
   "execution_count": 3,
   "id": "9f7f5317",
   "metadata": {},
   "outputs": [
    {
     "data": {
      "text/html": [
       "<div>\n",
       "<style scoped>\n",
       "    .dataframe tbody tr th:only-of-type {\n",
       "        vertical-align: middle;\n",
       "    }\n",
       "\n",
       "    .dataframe tbody tr th {\n",
       "        vertical-align: top;\n",
       "    }\n",
       "\n",
       "    .dataframe thead th {\n",
       "        text-align: right;\n",
       "    }\n",
       "</style>\n",
       "<table border=\"1\" class=\"dataframe\">\n",
       "  <thead>\n",
       "    <tr style=\"text-align: right;\">\n",
       "      <th></th>\n",
       "      <th>0</th>\n",
       "      <th>1</th>\n",
       "      <th>2</th>\n",
       "      <th>3</th>\n",
       "    </tr>\n",
       "  </thead>\n",
       "  <tbody>\n",
       "    <tr>\n",
       "      <th>0</th>\n",
       "      <td>ফেনী জেলা আ. লীগের পূর্ণাঙ্গ কমিটির অনুমোদন</td>\n",
       "      <td>ফেনী জেলা আওয়ামী লীগের পূর্ণাঙ্গ কমিটি অনুমোদন...</td>\n",
       "      <td>০৯ ডিসেম্বর ২০২০, ২০:২৪</td>\n",
       "      <td>Country</td>\n",
       "    </tr>\n",
       "    <tr>\n",
       "      <th>1</th>\n",
       "      <td>বঙ্গবন্ধুর ভাস্কর্য ভাঙার প্রতিবাদে ভালুকায় ব...</td>\n",
       "      <td>কুষ্টিয়ায় বঙ্গবন্ধুর ভাস্কর্য ভাঙার প্রতিবাদ ...</td>\n",
       "      <td>০৯ ডিসেম্বর ২০২০, ১৯:২১</td>\n",
       "      <td>Country</td>\n",
       "    </tr>\n",
       "    <tr>\n",
       "      <th>2</th>\n",
       "      <td>সাতক্ষীরায় ট্রাক-মোটরসাইকেলের মুখোমুখি সংঘর্ষ,...</td>\n",
       "      <td>সাতক্ষীরার ভোমরা স্থলবন্দর সড়কের নবাতকাটি এলাক...</td>\n",
       "      <td>০৯ ডিসেম্বর ২০২০, ১৯:১২</td>\n",
       "      <td>Country</td>\n",
       "    </tr>\n",
       "    <tr>\n",
       "      <th>3</th>\n",
       "      <td>শিক্ষার্থীদের টিফিনের টাকায় ৯৬ হাজার বৃক্ষরোপণ</td>\n",
       "      <td>কুড়িগ্রামের উলিপুরে শিক্ষার্থীদের টিফিনের টাকা...</td>\n",
       "      <td>০৯ ডিসেম্বর ২০২০, ১৮:৫৭</td>\n",
       "      <td>Country</td>\n",
       "    </tr>\n",
       "    <tr>\n",
       "      <th>4</th>\n",
       "      <td>গাইবান্ধায় সাইকেল না পেয়ে ছাত্রের আত্মহত্যা</td>\n",
       "      <td>গাইবান্ধায় সাইকেল না পেয়ে বাবা মায়ের সাথে অভিম...</td>\n",
       "      <td>০৯ ডিসেম্বর ২০২০, ১৭:৩৯</td>\n",
       "      <td>Country</td>\n",
       "    </tr>\n",
       "  </tbody>\n",
       "</table>\n",
       "</div>"
      ],
      "text/plain": [
       "                                                   0  \\\n",
       "0        ফেনী জেলা আ. লীগের পূর্ণাঙ্গ কমিটির অনুমোদন   \n",
       "1  বঙ্গবন্ধুর ভাস্কর্য ভাঙার প্রতিবাদে ভালুকায় ব...   \n",
       "2  সাতক্ষীরায় ট্রাক-মোটরসাইকেলের মুখোমুখি সংঘর্ষ,...   \n",
       "3     শিক্ষার্থীদের টিফিনের টাকায় ৯৬ হাজার বৃক্ষরোপণ   \n",
       "4        গাইবান্ধায় সাইকেল না পেয়ে ছাত্রের আত্মহত্যা   \n",
       "\n",
       "                                                   1                        2  \\\n",
       "0  ফেনী জেলা আওয়ামী লীগের পূর্ণাঙ্গ কমিটি অনুমোদন...  ০৯ ডিসেম্বর ২০২০, ২০:২৪   \n",
       "1  কুষ্টিয়ায় বঙ্গবন্ধুর ভাস্কর্য ভাঙার প্রতিবাদ ...  ০৯ ডিসেম্বর ২০২০, ১৯:২১   \n",
       "2  সাতক্ষীরার ভোমরা স্থলবন্দর সড়কের নবাতকাটি এলাক...  ০৯ ডিসেম্বর ২০২০, ১৯:১২   \n",
       "3  কুড়িগ্রামের উলিপুরে শিক্ষার্থীদের টিফিনের টাকা...  ০৯ ডিসেম্বর ২০২০, ১৮:৫৭   \n",
       "4  গাইবান্ধায় সাইকেল না পেয়ে বাবা মায়ের সাথে অভিম...  ০৯ ডিসেম্বর ২০২০, ১৭:৩৯   \n",
       "\n",
       "         3  \n",
       "0  Country  \n",
       "1  Country  \n",
       "2  Country  \n",
       "3  Country  \n",
       "4  Country  "
      ]
     },
     "execution_count": 3,
     "metadata": {},
     "output_type": "execute_result"
    }
   ],
   "source": [
    "dataset.head()"
   ]
  },
  {
   "cell_type": "code",
   "execution_count": 4,
   "id": "0111e741",
   "metadata": {},
   "outputs": [
    {
     "name": "stderr",
     "output_type": "stream",
     "text": [
      "[nltk_data] Downloading package stopwords to\n",
      "[nltk_data]     C:\\Users\\sykat\\AppData\\Roaming\\nltk_data...\n",
      "[nltk_data]   Package stopwords is already up-to-date!\n",
      "[nltk_data] Downloading package punkt to\n",
      "[nltk_data]     C:\\Users\\sykat\\AppData\\Roaming\\nltk_data...\n",
      "[nltk_data]   Package punkt is already up-to-date!\n",
      "[nltk_data] Downloading package indian to\n",
      "[nltk_data]     C:\\Users\\sykat\\AppData\\Roaming\\nltk_data...\n",
      "[nltk_data]   Unzipping corpora\\indian.zip.\n"
     ]
    },
    {
     "data": {
      "text/plain": [
       "True"
      ]
     },
     "execution_count": 4,
     "metadata": {},
     "output_type": "execute_result"
    }
   ],
   "source": [
    "import nltk\n",
    "nltk.download('stopwords')\n",
    "nltk.download('punkt')\n",
    "nltk.download('indian')"
   ]
  },
  {
   "cell_type": "code",
   "execution_count": 5,
   "id": "7615a4b4",
   "metadata": {},
   "outputs": [],
   "source": [
    "from nltk.corpus import stopwords\n",
    "from nltk.corpus import indian"
   ]
  },
  {
   "cell_type": "code",
   "execution_count": 20,
   "id": "b9134ae0",
   "metadata": {},
   "outputs": [],
   "source": [
    "def bn_clean_text(text, remove_stopwords = True):\n",
    "    \n",
    "    text = str(text)\n",
    "\n",
    "    # Format words and remove unwanted characters\n",
    "    text = re.sub(r'https?:\\/\\/.*[\\r\\n]*', '', text, flags=re.MULTILINE)\n",
    "    text = re.sub(r'\\<a href', ' ', text)\n",
    "    text = re.sub(r'&amp;', '', text)\n",
    "    text = re.sub(r'[_\"\\-;,`%()|+&=*%.,!?:#$@\\[\\]/]', ' ', text)\n",
    "    text = re.sub(r'<br />', ' ', text)\n",
    "    text = text.replace(\"'\",\"\")\n",
    "\n",
    "    text = re.sub(r'\\'', ' ', text)\n",
    "    text = text.replace('\\'', ' ')\n",
    "    text = text.replace('\\’', ' ')\n",
    "    text = text.replace(',', ' ')\n",
    "    text = text.replace('।', ' ')\n",
    "    text = text.replace('’', ' ')\n",
    "    text = text.replace('‘', ' ')\n",
    "\n",
    "    # Optionally, remove stop words\n",
    "    if remove_stopwords:\n",
    "        text = text.split()\n",
    "        stops = set(stopwords.words(\"bengali\"))\n",
    "        text = [w for w in text if not w in stops]\n",
    "        text = \" \".join(text)\n",
    "\n",
    "    return text"
   ]
  },
  {
   "cell_type": "code",
   "execution_count": 21,
   "id": "445b3308",
   "metadata": {},
   "outputs": [],
   "source": [
    "dataset['1'] = dataset['1'].apply(lambda x: bn_clean_text(x, remove_stopwords = True))"
   ]
  },
  {
   "cell_type": "code",
   "execution_count": 22,
   "id": "73f477ca",
   "metadata": {},
   "outputs": [],
   "source": [
    "def word_freq(corpus, ngrams=[1,2,3], top=10):\n",
    "    lst_tokens = nltk.tokenize.word_tokenize(corpus.str.cat(sep=\" \"))\n",
    "    ngrams = [ngrams] if type(ngrams) is int else ngrams\n",
    "    print(ngrams)\n",
    "\n",
    "    dtf_freq = pd.DataFrame()\n",
    "    for n in ngrams:\n",
    "        dic_words_freq = nltk.FreqDist(nltk.ngrams(lst_tokens, n))\n",
    "        dtf_n = pd.DataFrame(dic_words_freq.most_common(), columns=[\"word\",\"freq\"])\n",
    "        dtf_n[\"ngrams\"] = n\n",
    "        dtf_freq = dtf_freq.append(dtf_n)\n",
    "    dtf_freq[\"word\"] = dtf_freq[\"word\"].apply(lambda x: \" \".join(string for string in x) )\n",
    "    dtf_freq = dtf_freq.sort_values([\"ngrams\",\"freq\"], ascending=[True,False])\n",
    "\n",
    "    print(dtf_freq.head(top))\n",
    "    return"
   ]
  },
  {
   "cell_type": "code",
   "execution_count": 23,
   "id": "66be155f",
   "metadata": {},
   "outputs": [
    {
     "name": "stdout",
     "output_type": "stream",
     "text": [
      "[1]\n"
     ]
    },
    {
     "name": "stderr",
     "output_type": "stream",
     "text": [
      "C:\\Users\\sykat\\AppData\\Local\\Temp\\ipykernel_10196\\2672594608.py:12: FutureWarning: The frame.append method is deprecated and will be removed from pandas in a future version. Use pandas.concat instead.\n",
      "  dtf_freq = dtf_freq.append(dtf_n)\n"
     ]
    },
    {
     "name": "stdout",
     "output_type": "stream",
     "text": [
      "           word    freq  ngrams\n",
      "0         হয়েছে  110326       1\n",
      "1            এক   68594       1\n",
      "2         করোনা   48853       1\n",
      "3           হয়ে   48815       1\n",
      "4         জানান   47729       1\n",
      "..          ...     ...     ...\n",
      "95       শনিবার   12860       1\n",
      "96        ধরনের   12838       1\n",
      "97          খবর   12789       1\n",
      "98  বৃহস্পতিবার   12741       1\n",
      "99      বিভাগের   12662       1\n",
      "\n",
      "[100 rows x 3 columns]\n"
     ]
    }
   ],
   "source": [
    "dtf_freq = word_freq(corpus=dataset[\"1\"], ngrams=[1], top=100)"
   ]
  },
  {
   "cell_type": "code",
   "execution_count": null,
   "id": "c819fc56",
   "metadata": {},
   "outputs": [],
   "source": []
  }
 ],
 "metadata": {
  "kernelspec": {
   "display_name": "Python 3 (ipykernel)",
   "language": "python",
   "name": "python3"
  },
  "language_info": {
   "codemirror_mode": {
    "name": "ipython",
    "version": 3
   },
   "file_extension": ".py",
   "mimetype": "text/x-python",
   "name": "python",
   "nbconvert_exporter": "python",
   "pygments_lexer": "ipython3",
   "version": "3.9.13"
  }
 },
 "nbformat": 4,
 "nbformat_minor": 5
}
