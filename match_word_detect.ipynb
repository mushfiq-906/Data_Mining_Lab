{
 "cells": [
  {
   "cell_type": "code",
   "execution_count": 1,
   "metadata": {},
   "outputs": [
    {
     "name": "stdout",
     "output_type": "stream",
     "text": [
      "Matching words saved to matching_words.csv\n",
      "Unmatched words from file1 saved to unmatched_words_file1.csv\n",
      "Unmatched words from file2 saved to unmatched_words_file2.csv\n"
     ]
    }
   ],
   "source": [
    "import pandas as pd\n",
    "\n",
    "# Load the CSV files into pandas DataFrames\n",
    "df1 = pd.read_csv('filtered_unigram.csv')\n",
    "df2 = pd.read_csv('filtered_hapax.csv')\n",
    "\n",
    "# Define the column for comparison\n",
    "common_column = 'processed_text'\n",
    "\n",
    "# Inner join to get the matching words\n",
    "matching_df = pd.merge(df1, df2, on=common_column, how='inner')\n",
    "\n",
    "# Get the unmatched words from file1\n",
    "unmatched_df1 = df1[~df1[common_column].isin(matching_df[common_column])]\n",
    "\n",
    "# Get the unmatched words from file2\n",
    "unmatched_df2 = df2[~df2[common_column].isin(matching_df[common_column])]\n",
    "\n",
    "# Specify the output file names\n",
    "matching_output_file = 'matching_words.csv'\n",
    "unmatched_output_file1 = 'unmatched_words_file1.csv'\n",
    "unmatched_output_file2 = 'unmatched_words_file2.csv'\n",
    "\n",
    "# Save the matching and unmatched DataFrames to CSV files\n",
    "matching_df.to_csv(matching_output_file, index=False)\n",
    "unmatched_df1.to_csv(unmatched_output_file1, index=False)\n",
    "unmatched_df2.to_csv(unmatched_output_file2, index=False)\n",
    "\n",
    "print(f\"Matching words saved to {matching_output_file}\")\n",
    "print(f\"Unmatched words from file1 saved to {unmatched_output_file1}\")\n",
    "print(f\"Unmatched words from file2 saved to {unmatched_output_file2}\")\n"
   ]
  }
 ],
 "metadata": {
  "kernelspec": {
   "display_name": "base",
   "language": "python",
   "name": "python3"
  },
  "language_info": {
   "codemirror_mode": {
    "name": "ipython",
    "version": 3
   },
   "file_extension": ".py",
   "mimetype": "text/x-python",
   "name": "python",
   "nbconvert_exporter": "python",
   "pygments_lexer": "ipython3",
   "version": "3.11.4"
  },
  "orig_nbformat": 4
 },
 "nbformat": 4,
 "nbformat_minor": 2
}
